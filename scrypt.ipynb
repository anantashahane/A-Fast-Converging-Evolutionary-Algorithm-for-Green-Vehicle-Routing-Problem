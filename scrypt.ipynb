{
 "cells": [
  {
   "cell_type": "code",
   "execution_count": 3,
   "metadata": {},
   "outputs": [
    {
     "name": "stdout",
     "output_type": "stream",
     "text": [
      "['M-n200-k17', 'M-n200-k16', 'M-n151-k12', 'F-n135-k7', 'M-n121-k7', 'P-n101-k4', 'M-n101-k10', 'E-n101-k14', 'E-n101-k8', 'A-n80-k10', 'B-n78-k10', 'E-n76-k7', 'P-n76-k5', 'E-n76-k8', 'P-n76-k4', 'E-n76-k10', 'E-n76-k14', 'F-n72-k4', 'P-n70-k10', 'A-n69-k9', 'B-n68-k9', 'B-n67-k10', 'B-n66-k9', 'A-n65-k9', 'P-n65-k10', 'A-n64-k9', 'B-n64-k9', 'A-n63-k9', 'A-n63-k10', 'B-n63-k10', 'A-n62-k8', 'A-n61-k9', 'P-n60-k15', 'P-n60-k10', 'A-n60-k9', 'B-n57-k7', 'B-n57-k9', 'B-n56-k7', 'P-n55-k10', 'P-n55-k8', 'A-n55-k9', 'P-n55-k7', 'A-n54-k7', 'A-n53-k7', 'B-n52-k7', 'E-n51-k5', 'P-n51-k10', 'B-n51-k7', 'P-n50-k7', 'B-n50-k7', 'B-n50-k8', 'P-n50-k8', 'P-n50-k10', 'A-n48-k7', 'A-n46-k7', 'A-n45-k6', 'B-n45-k5', 'B-n45-k6', 'F-n45-k4', 'A-n45-k7', 'P-n45-k5', 'B-n44-k7', 'A-n44-k6', 'B-n43-k6', 'B-n41-k6', 'P-n40-k5', 'B-n39-k5', 'A-n39-k5', 'A-n39-k6', 'A-n38-k5', 'B-n38-k6', 'A-n37-k6', 'A-n37-k5', 'A-n36-k5', 'B-n35-k5', 'A-n34-k5', 'B-n34-k5', 'A-n33-k6', 'A-n33-k5', 'E-n33-k4', 'A-n32-k5', 'B-n31-k5', 'E-n30-k3', 'E-n23-k3', 'P-n23-k8', 'P-n22-k8', 'E-n22-k4', 'P-n22-k2', 'P-n21-k2', 'P-n20-k2', 'P-n19-k2', 'P-n16-k8']\n"
     ]
    },
    {
     "data": {
      "text/html": [
       "<div>\n",
       "<style scoped>\n",
       "    .dataframe tbody tr th:only-of-type {\n",
       "        vertical-align: middle;\n",
       "    }\n",
       "\n",
       "    .dataframe tbody tr th {\n",
       "        vertical-align: top;\n",
       "    }\n",
       "\n",
       "    .dataframe thead th {\n",
       "        text-align: right;\n",
       "    }\n",
       "</style>\n",
       "<table border=\"1\" class=\"dataframe\">\n",
       "  <thead>\n",
       "    <tr style=\"text-align: right;\">\n",
       "      <th></th>\n",
       "      <th>Benchmarks</th>\n",
       "      <th>Customers</th>\n",
       "    </tr>\n",
       "  </thead>\n",
       "  <tbody>\n",
       "    <tr>\n",
       "      <th>0</th>\n",
       "      <td>M-n200-k17</td>\n",
       "      <td>200</td>\n",
       "    </tr>\n",
       "    <tr>\n",
       "      <th>1</th>\n",
       "      <td>M-n200-k16</td>\n",
       "      <td>200</td>\n",
       "    </tr>\n",
       "    <tr>\n",
       "      <th>2</th>\n",
       "      <td>M-n151-k12</td>\n",
       "      <td>151</td>\n",
       "    </tr>\n",
       "    <tr>\n",
       "      <th>3</th>\n",
       "      <td>F-n135-k7</td>\n",
       "      <td>135</td>\n",
       "    </tr>\n",
       "    <tr>\n",
       "      <th>4</th>\n",
       "      <td>M-n121-k7</td>\n",
       "      <td>121</td>\n",
       "    </tr>\n",
       "    <tr>\n",
       "      <th>...</th>\n",
       "      <td>...</td>\n",
       "      <td>...</td>\n",
       "    </tr>\n",
       "    <tr>\n",
       "      <th>87</th>\n",
       "      <td>P-n22-k2</td>\n",
       "      <td>22</td>\n",
       "    </tr>\n",
       "    <tr>\n",
       "      <th>88</th>\n",
       "      <td>P-n21-k2</td>\n",
       "      <td>21</td>\n",
       "    </tr>\n",
       "    <tr>\n",
       "      <th>89</th>\n",
       "      <td>P-n20-k2</td>\n",
       "      <td>20</td>\n",
       "    </tr>\n",
       "    <tr>\n",
       "      <th>90</th>\n",
       "      <td>P-n19-k2</td>\n",
       "      <td>19</td>\n",
       "    </tr>\n",
       "    <tr>\n",
       "      <th>91</th>\n",
       "      <td>P-n16-k8</td>\n",
       "      <td>16</td>\n",
       "    </tr>\n",
       "  </tbody>\n",
       "</table>\n",
       "<p>92 rows × 2 columns</p>\n",
       "</div>"
      ],
      "text/plain": [
       "    Benchmarks  Customers\n",
       "0   M-n200-k17        200\n",
       "1   M-n200-k16        200\n",
       "2   M-n151-k12        151\n",
       "3    F-n135-k7        135\n",
       "4    M-n121-k7        121\n",
       "..         ...        ...\n",
       "87    P-n22-k2         22\n",
       "88    P-n21-k2         21\n",
       "89    P-n20-k2         20\n",
       "90    P-n19-k2         19\n",
       "91    P-n16-k8         16\n",
       "\n",
       "[92 rows x 2 columns]"
      ]
     },
     "execution_count": 3,
     "metadata": {},
     "output_type": "execute_result"
    }
   ],
   "source": [
    "import glob\n",
    "import pandas as pd\n",
    "\n",
    "benchmarksFiles = glob.glob(\"./Benchmarks/*/*.json\")\n",
    "benchmarks = [benchmark := benchmarkFile.split(\"/\")[-1].split(\".\")[0] for benchmarkFile in benchmarksFiles]\n",
    "df = pd.DataFrame()\n",
    "df[\"Benchmarks\"] = benchmarks\n",
    "customers = [customers := int(benchmark.split(\"-\")[1][1:]) for benchmark in benchmarks]\n",
    "df[\"Customers\"] = customers\n",
    "df = df.sort_values([\"Customers\"], ascending=False)\n",
    "df = df.reset_index()\n",
    "df = df.drop([\"index\"], axis=1)\n",
    "print(list(df[\"Benchmarks\"]))\n",
    "df"
   ]
  },
  {
   "cell_type": "code",
   "execution_count": 4,
   "metadata": {},
   "outputs": [
    {
     "name": "stdout",
     "output_type": "stream",
     "text": [
      "92 benchmarks\n"
     ]
    },
    {
     "data": {
      "text/plain": [
       "[]"
      ]
     },
     "execution_count": 4,
     "metadata": {},
     "output_type": "execute_result"
    }
   ],
   "source": [
    "import psutil\n",
    "\n",
    "numberofCores = 8\n",
    "\n",
    "benchmarks = df[\"Benchmarks\"]\n",
    "print(f\"{len(benchmarks)} benchmarks\")\n",
    "def CheckOpenProcesses(named):\n",
    "    names = []\n",
    "    for proc in psutil.process_iter(['pid', 'name']):\n",
    "        try:\n",
    "        # Get process detail as dictionary\n",
    "            process_info = proc.info\n",
    "            if process_info[\"name\"] == named:\n",
    "                names.append(process_info)\n",
    "\n",
    "        except (psutil.NoSuchProcess, psutil.AccessDenied, psutil.ZombieProcess):\n",
    "            pass\n",
    "    return names\n",
    "CheckOpenProcesses(\"run\")"
   ]
  },
  {
   "cell_type": "code",
   "execution_count": 5,
   "metadata": {},
   "outputs": [],
   "source": [
    "import subprocess\n",
    "import os\n",
    "\n",
    "def RunCommand(onBenchmark):\n",
    "    pwd = os.getcwd()\n",
    "    command = f\"cd {pwd}; time ./run contains {onBenchmark}\"\n",
    "    process = subprocess.Popen(['osascript', '-e', f'tell app \"Terminal\" to do script \"{command}\"'])\n",
    "    pid = process.pid\n",
    "    return pid\n"
   ]
  },
  {
   "cell_type": "code",
   "execution_count": 9,
   "metadata": {},
   "outputs": [
    {
     "name": "stdout",
     "output_type": "stream",
     "text": [
      "1/92: M-n200-k17 started at 18:17\n",
      "tab 1 of window id 47426\n",
      "2/92: M-n200-k16 started at 18:17\n",
      "tab 1 of window id 47457\n",
      "3/92: M-n151-k12 started at 18:17\n",
      "tab 1 of window id 47460\n",
      "4/92: F-n135-k7 started at 18:17\n",
      "tab 1 of window id 47464\n",
      "5/92: M-n121-k7 started at 18:18\n",
      "tab 1 of window id 47467\n",
      "6/92: P-n101-k4 started at 18:18\n",
      "tab 1 of window id 47471\n",
      "7/92: M-n101-k10 started at 18:18\n",
      "tab 1 of window id 47474\n",
      "8/92: E-n101-k14 started at 18:18\n",
      "tab 1 of window id 47477\n"
     ]
    },
    {
     "ename": "KeyboardInterrupt",
     "evalue": "",
     "output_type": "error",
     "traceback": [
      "\u001b[0;31m---------------------------------------------------------------------------\u001b[0m",
      "\u001b[0;31mKeyboardInterrupt\u001b[0m                         Traceback (most recent call last)",
      "Cell \u001b[0;32mIn [9], line 22\u001b[0m\n\u001b[1;32m     20\u001b[0m         \u001b[38;5;28mprint\u001b[39m(\u001b[38;5;124mf\u001b[39m\u001b[38;5;124m\"\u001b[39m\u001b[38;5;132;01m{\u001b[39;00mformatted_time\u001b[38;5;132;01m}\u001b[39;00m\u001b[38;5;124m Done\u001b[39m\u001b[38;5;124m\"\u001b[39m)\n\u001b[1;32m     21\u001b[0m         continueFlag \u001b[38;5;241m=\u001b[39m \u001b[38;5;28;01mFalse\u001b[39;00m\n\u001b[0;32m---> 22\u001b[0m \u001b[43mtime\u001b[49m\u001b[38;5;241;43m.\u001b[39;49m\u001b[43msleep\u001b[49m\u001b[43m(\u001b[49m\u001b[38;5;241;43m10\u001b[39;49m\u001b[43m)\u001b[49m\n",
      "\u001b[0;31mKeyboardInterrupt\u001b[0m: "
     ]
    }
   ],
   "source": [
    "import time\n",
    "from datetime import datetime\n",
    "\n",
    "# Resume Index\n",
    "BenchmarkIterator = 0\n",
    "\n",
    "continueFlag = True\n",
    "while continueFlag:\n",
    "    processes = CheckOpenProcesses(\"run\")\n",
    "    if len(processes) < numberofCores:\n",
    "        if BenchmarkIterator < len(benchmarks):\n",
    "            pid = RunCommand(benchmarks[BenchmarkIterator])\n",
    "            currentTime = datetime.now()\n",
    "            formatted_time = currentTime.strftime(\"%H:%M\")\n",
    "            print(f\"{BenchmarkIterator + 1}/{len(benchmarks)}: {benchmarks[BenchmarkIterator]} started at {formatted_time}\")\n",
    "            BenchmarkIterator += 1\n",
    "        else:\n",
    "            currentTime = datetime.now()\n",
    "            formatted_time = currentTime.strftime(\"%H:%M\")\n",
    "            print(f\"{formatted_time} Done\")\n",
    "            continueFlag = False\n",
    "    time.sleep(10)\n"
   ]
  }
 ],
 "metadata": {
  "kernelspec": {
   "display_name": "ea-deps",
   "language": "python",
   "name": "python3"
  },
  "language_info": {
   "codemirror_mode": {
    "name": "ipython",
    "version": 3
   },
   "file_extension": ".py",
   "mimetype": "text/x-python",
   "name": "python",
   "nbconvert_exporter": "python",
   "pygments_lexer": "ipython3",
   "version": "3.8.13"
  }
 },
 "nbformat": 4,
 "nbformat_minor": 2
}
